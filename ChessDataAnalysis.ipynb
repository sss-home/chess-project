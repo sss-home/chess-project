{
 "cells": [
  {
   "cell_type": "code",
   "execution_count": 8,
   "metadata": {},
   "outputs": [
    {
     "name": "stdout",
     "output_type": "stream",
     "text": [
      "Setup Complete\n"
     ]
    }
   ],
   "source": [
    "import pandas as pd\n",
    "pd.plotting.register_matplotlib_converters()\n",
    "import matplotlib.pyplot as plt\n",
    "%matplotlib inline\n",
    "import seaborn as sns\n",
    "print(\"Setup Complete\")"
   ]
  },
  {
   "cell_type": "code",
   "execution_count": 29,
   "metadata": {},
   "outputs": [],
   "source": [
    "chess_data_filename = 'CSVs/chess_data_shaash.csv'\n",
    "chess_data = pd.read_csv(chess_data_filename, index_col='Date')"
   ]
  },
  {
   "cell_type": "code",
   "execution_count": 10,
   "metadata": {},
   "outputs": [
    {
     "data": {
      "text/plain": [
       "Index(['Player', 'Player Rating', 'Player Nationality', 'Player Side',\n",
       "       'Player Result', 'Player First Move', 'Opponent', 'Opponent Rating',\n",
       "       'Opponent Nationality', 'Opponent Side', 'Opponent Result',\n",
       "       'Opponent First Move', 'Opening', 'Variation', 'Termination', 'Moves',\n",
       "       'Event', 'Time Class', 'Time Control', 'FEN'],\n",
       "      dtype='object')"
      ]
     },
     "execution_count": 10,
     "metadata": {},
     "output_type": "execute_result"
    }
   ],
   "source": [
    "chess_data.columns"
   ]
  },
  {
   "cell_type": "code",
   "execution_count": 11,
   "metadata": {},
   "outputs": [
    {
     "data": {
      "text/plain": [
       "array(['Live Chess', \"Let's Play!\", 'Live Chess - King of the Hill',\n",
       "       'Live Chess - Crazyhouse', 'Live Chess - Three-Check',\n",
       "       'Live Chess - Chess960', 'Chess Learners Brawl #21 - Round 1',\n",
       "       'U-1450 - Board 16'], dtype=object)"
      ]
     },
     "execution_count": 11,
     "metadata": {},
     "output_type": "execute_result"
    }
   ],
   "source": [
    "chess_data['Event'].unique()"
   ]
  },
  {
   "cell_type": "code",
   "execution_count": 12,
   "metadata": {},
   "outputs": [
    {
     "data": {
      "text/plain": [
       "array(['https://www.chess.com/openings/Philidor-Defense-3.Bc4',\n",
       "       'https://www.chess.com/openings/Sicilian-Defense-Open-Variation',\n",
       "       'https://www.chess.com/openings/Italian-Game-Anti-Fried-Liver-Defense',\n",
       "       ...,\n",
       "       'https://www.chess.com/openings/French-Defense-Classical-Variation',\n",
       "       'https://www.chess.com/openings/Sicilian-Defense-Open-Najdorf-Main-Line-10.Bd3-h6',\n",
       "       'https://www.chess.com/openings/Slav-Defense-Modern-Line-3...Nf6-4.g3-Bf5-5.Bg2'],\n",
       "      dtype=object)"
      ]
     },
     "execution_count": 12,
     "metadata": {},
     "output_type": "execute_result"
    }
   ],
   "source": [
    "chess_data['Opening'].unique()"
   ]
  },
  {
   "cell_type": "code",
   "execution_count": 20,
   "metadata": {},
   "outputs": [
    {
     "data": {
      "text/plain": [
       "array(['Defense 3.Bc4', 'Defense Open Variation',\n",
       "       'Game Anti Fried Liver Defense', ...,\n",
       "       'Defense Exchange Symmetrical Line...9.Qxd3 Bd6 10.Bxd6 Qxd6',\n",
       "       'Defense Open Najdorf Main Line 10.Bd3 h6',\n",
       "       'Defense Modern Line 3...Nf6 4.g3 Bf5 5.Bg2'], dtype=object)"
      ]
     },
     "execution_count": 20,
     "metadata": {},
     "output_type": "execute_result"
    }
   ],
   "source": [
    "chess_data['Variation'].unique()"
   ]
  },
  {
   "cell_type": "code",
   "execution_count": 22,
   "metadata": {},
   "outputs": [
    {
     "data": {
      "text/plain": [
       "array(['1800', '600', '180', '1/259200', '60', '600+10', '900+10',\n",
       "       '120+1', '2700+45', '300', '3600', '900', '480+12', '900+1',\n",
       "       '900+5', '1200+15', '1800+30', '1800+20', '1200', '5100', '180+2',\n",
       "       '1380', '1800+10', '2100', '900+2', '1/86400', '1080', '1320',\n",
       "       '240+20', '1320+45', '600+20', '300+2', '600+3', '240', '1500+10',\n",
       "       '420+15', '720+12', '60+1', '300+3', '720+3', '300+5', '600+1',\n",
       "       '480', '120+12', '10', '30', '60+10', '1260', '600+5', '600+7',\n",
       "       '420+7', '360', '60+7', '360+6', '420', '120', '900+15', '480+10',\n",
       "       '60+8', '600+15', '900+30', '60+5', '1500+5', '45+5', '600+2',\n",
       "       '1500+3', '180+1', '480+2', '2700+15', '300+1', '3600+5'],\n",
       "      dtype=object)"
      ]
     },
     "execution_count": 22,
     "metadata": {},
     "output_type": "execute_result"
    }
   ],
   "source": [
    "chess_data['Time Class'].unique()"
   ]
  },
  {
   "cell_type": "code",
   "execution_count": 21,
   "metadata": {},
   "outputs": [
    {
     "data": {
      "text/plain": [
       "array(['3kr3/5r2/1b6/4q3/6P1/3P1P2/6KP/8 w - -',\n",
       "       '4k1Q1/R6P/8/8/8/2B5/6K1/8 b - -',\n",
       "       'r1bqkbr1/pppp1p2/5n1p/4p3/2B1P3/8/PPnP1PPP/RNB1R1K1 w q -', ...,\n",
       "       'r3r1k1/5p1N/4pPpQ/3p1b1p/p2P4/7P/pq3PP1/R3R1K1 b - -',\n",
       "       '8/4kp1p/8/5pPP/2b1p3/P1P5/4q3/1RK5 w - -',\n",
       "       'B1bqr1k1/p4ppp/1p2pn2/2p1N3/1BpP4/6P1/PP2PP1P/RN1QK2R w KQ c6'],\n",
       "      dtype=object)"
      ]
     },
     "execution_count": 21,
     "metadata": {},
     "output_type": "execute_result"
    }
   ],
   "source": [
    "chess_data['FEN'].unique()"
   ]
  },
  {
   "cell_type": "code",
   "execution_count": 23,
   "metadata": {},
   "outputs": [
    {
     "data": {
      "text/plain": [
       "Text(0, 0.5, 'Date')"
      ]
     },
     "execution_count": 23,
     "metadata": {},
     "output_type": "execute_result"
    },
    {
     "data": {
      "image/png": "[encoded data removed]",
      "text/plain": [
       "<Figure size 720x432 with 1 Axes>"
      ]
     },
     "metadata": {
      "needs_background": "light"
     },
     "output_type": "display_data"
    }
   ],
   "source": [
    "plt.figure(figsize=(10,6))\n",
    "plt.title(\"Rating Graph\")\n",
    "sns.barplot(x=chess_data.index, y=chess_data['Player Rating'])\n",
    "plt.ylabel(\"Date\")"
   ]
  },
  {
   "cell_type": "code",
   "execution_count": 24,
   "metadata": {},
   "outputs": [
    {
     "data": {
      "text/plain": [
       "array(['Resigned', 'Checkmated', 'Draw agreed', 'Win', 'Timeout',\n",
       "       'Abandoned', 'Stalemate', 'Draw by repetition',\n",
       "       'Insufficient material', 'Draw by 50-move rule',\n",
       "       'Opponent King reached the hill', 'Checked for the 3rd time',\n",
       "       'Draw by timeout vs insufficient material'], dtype=object)"
      ]
     },
     "execution_count": 24,
     "metadata": {},
     "output_type": "execute_result"
    }
   ],
   "source": [
    "chess_data['Player Result'].unique()"
   ]
  },
  {
   "cell_type": "code",
   "execution_count": 25,
   "metadata": {},
   "outputs": [
    {
     "data": {
      "text/html": [
       "<div>\n",
       "<style scoped>\n",
       "    .dataframe tbody tr th:only-of-type {\n",
       "        vertical-align: middle;\n",
       "    }\n",
       "\n",
       "    .dataframe tbody tr th {\n",
       "        vertical-align: top;\n",
       "    }\n",
       "\n",
       "    .dataframe thead th {\n",
       "        text-align: right;\n",
       "    }\n",
       "</style>\n",
       "<table border=\"1\" class=\"dataframe\">\n",
       "  <thead>\n",
       "    <tr style=\"text-align: right;\">\n",
       "      <th></th>\n",
       "      <th>num_wins</th>\n",
       "      <th>num_losses</th>\n",
       "      <th>num_draws</th>\n",
       "    </tr>\n",
       "    <tr>\n",
       "      <th>total_games</th>\n",
       "      <th></th>\n",
       "      <th></th>\n",
       "      <th></th>\n",
       "    </tr>\n",
       "  </thead>\n",
       "  <tbody>\n",
       "    <tr>\n",
       "      <th>15919</th>\n",
       "      <td>7218</td>\n",
       "      <td>8061</td>\n",
       "      <td>640</td>\n",
       "    </tr>\n",
       "  </tbody>\n",
       "</table>\n",
       "</div>"
      ],
      "text/plain": [
       "             num_wins  num_losses  num_draws\n",
       "total_games                                 \n",
       "15919            7218        8061        640"
      ]
     },
     "execution_count": 25,
     "metadata": {},
     "output_type": "execute_result"
    }
   ],
   "source": [
    "total_games = chess_data.shape[0]\n",
    "num_wins = chess_data[chess_data['Player Result'] == 'Win'].shape[0]\n",
    "num_losses = chess_data[chess_data['Opponent Result'] == 'Win'].shape[0]\n",
    "draws = chess_data[chess_data['Player Result'].str.contains('Draw')].shape[0]\n",
    "insufficient_material = chess_data[chess_data['Player Result'] == 'Insufficient material'].shape[0]\n",
    "stalemates = chess_data[chess_data['Player Result'] == 'Stalemate'].shape[0]\n",
    "num_draws = draws + insufficient_material + stalemates\n",
    "frequency_data_dict = {'total_games': total_games, 'num_wins': num_wins, 'num_losses': num_losses, 'num_draws': num_draws}\n",
    "frequency_data_df = pd.DataFrame.from_records([frequency_data_dict], index='total_games')\n",
    "frequency_data_df"
   ]
  },
  {
   "cell_type": "code",
   "execution_count": 26,
   "metadata": {},
   "outputs": [
    {
     "data": {
      "text/plain": [
       "<matplotlib.axes._subplots.AxesSubplot at 0x1a1aeec550>"
      ]
     },
     "execution_count": 26,
     "metadata": {},
     "output_type": "execute_result"
    },
    {
     "data": {
      "image/png": "[encoded data removed]",
      "text/plain": [
       "<Figure size 432x288 with 1 Axes>"
      ]
     },
     "metadata": {
      "needs_background": "light"
     },
     "output_type": "display_data"
    }
   ],
   "source": [
    "frequency_data_df.iloc[0].plot.bar()"
   ]
  },
  {
   "cell_type": "code",
   "execution_count": 27,
   "metadata": {},
   "outputs": [
    {
     "data": {
      "text/plain": [
       "array(['rapid', 'blitz', 'daily', 'bullet'], dtype=object)"
      ]
     },
     "execution_count": 27,
     "metadata": {},
     "output_type": "execute_result"
    }
   ],
   "source": [
    "chess_data['Time Control'].unique()"
   ]
  },
  {
   "cell_type": "code",
   "execution_count": 30,
   "metadata": {},
   "outputs": [
    {
     "data": {
      "text/plain": [
       "array(['None',\n",
       "       'https://www.chess.com/tournament/live/30-super-blitz-332284',\n",
       "       'https://www.chess.com/tournament/live/100-rapid-336496',\n",
       "       'https://www.chess.com/tournament/live/30-super-blitz-598930',\n",
       "       'https://www.chess.com/tournament/live/50-blitz-599018',\n",
       "       'https://www.chess.com/tournament/live/10-lightning-612666',\n",
       "       'https://www.chess.com/tournament/live/30-super-blitz-612678',\n",
       "       'https://www.chess.com/tournament/live/10-lightning-623006',\n",
       "       'https://www.chess.com/tournament/live/10-bullet-688004',\n",
       "       'https://www.chess.com/tournament/live/10-bullet-690295',\n",
       "       'https://www.chess.com/tournament/live/21-bullet-690303',\n",
       "       'https://www.chess.com/tournament/live/21-bullet-691348',\n",
       "       'https://www.chess.com/tournament/live/10-king-of-the-hill-694369',\n",
       "       'https://www.chess.com/tournament/live/100-blitz-694372',\n",
       "       'https://www.chess.com/tournament/live/21-bullet-737897',\n",
       "       'https://www.chess.com/tournament/live/50-blitz-737914',\n",
       "       'https://www.chess.com/tournament/live/10-3-check-775487',\n",
       "       'https://www.chess.com/tournament/live/10-crazyhouse-775950',\n",
       "       'https://www.chess.com/tournament/live/10-crazyhouse-776429',\n",
       "       'https://www.chess.com/tournament/live/30-king-of-the-hill-776460',\n",
       "       'https://www.chess.com/tournament/live/10-3-check-776480',\n",
       "       'https://www.chess.com/tournament/live/21-bullet-776483',\n",
       "       'https://www.chess.com/tournament/live/10-crazyhouse-778552',\n",
       "       'https://www.chess.com/tournament/live/10-3-check-778557',\n",
       "       'https://www.chess.com/tournament/live/100-blitz-778565',\n",
       "       'https://www.chess.com/tournament/live/30-blitz-778906',\n",
       "       'https://www.chess.com/tournament/live/50-blitz-778916',\n",
       "       'https://www.chess.com/tournament/live/1510-rapid-778943',\n",
       "       'https://www.chess.com/tournament/live/30-blitz-778948',\n",
       "       'https://www.chess.com/tournament/live/10-bullet-779250',\n",
       "       'https://www.chess.com/tournament/live/10-crazyhouse-779252',\n",
       "       'https://www.chess.com/tournament/live/50-blitz-779322',\n",
       "       'https://www.chess.com/tournament/live/30-king-of-the-hill-779332',\n",
       "       'https://www.chess.com/tournament/live/10-3-check-779350',\n",
       "       'https://www.chess.com/tournament/live/21-bullet-779353',\n",
       "       'https://www.chess.com/tournament/live/50-blitz-779807',\n",
       "       'https://www.chess.com/tournament/live/30-live-960-779819',\n",
       "       'https://www.chess.com/tournament/live/10-3-check-779830',\n",
       "       'https://www.chess.com/tournament/live/21-bullet-779833',\n",
       "       'https://www.chess.com/tournament/live/10-king-of-the-hill-779835',\n",
       "       'https://www.chess.com/tournament/live/30-blitz-781517',\n",
       "       'https://www.chess.com/tournament/live/10-bullet-781524',\n",
       "       'https://www.chess.com/tournament/live/10-crazyhouse-781526',\n",
       "       'https://www.chess.com/tournament/live/30-blitz-782127',\n",
       "       'https://www.chess.com/tournament/live/10-bullet-783551',\n",
       "       'https://www.chess.com/tournament/live/30-king-of-the-hill-784107',\n",
       "       'https://www.chess.com/tournament/live/10-3-check-786131',\n",
       "       'https://www.chess.com/tournament/live/1510-rapid-786625',\n",
       "       'https://www.chess.com/tournament/live/100-live-960-817417',\n",
       "       'https://www.chess.com/tournament/live/1510-rapid-846064',\n",
       "       'https://www.chess.com/tournament/chess-learners-brawl-21',\n",
       "       'https://www.chess.com/tournament/live/30-blitz-1063670',\n",
       "       'https://www.chess.com/tournament/live/50-blitz-1073904',\n",
       "       'https://www.chess.com/tournament/live/21-bullet-1110111',\n",
       "       'https://www.chess.com/tournament/live/30-blitz-1123165',\n",
       "       'https://www.chess.com/tournament/live/50-blitz-1123547',\n",
       "       'https://www.chess.com/tournament/live/10-bullet-1124118',\n",
       "       'https://www.chess.com/tournament/live/10-bullet-1125595',\n",
       "       'https://www.chess.com/tournament/live/10-bullet-1149661',\n",
       "       'https://www.chess.com/tournament/live/10-bullet-1151031',\n",
       "       'https://www.chess.com/tournament/live/pnwcc-blitz---jackpot-i-1158810',\n",
       "       'https://www.chess.com/tournament/live/-us-chess-50-blitz-1156726',\n",
       "       'https://www.chess.com/tournament/live/first-online-tuesday-night-rapid-1160573',\n",
       "       'https://www.chess.com/tournament/live/pnwcc-g25-expert-1162859',\n",
       "       'https://www.chess.com/tournament/live/pnwcc-blitz---jackpot-ii-1162957',\n",
       "       'https://www.chess.com/tournament/live/mechanics-sunday-late-night-showdown-1163881',\n",
       "       'https://www.chess.com/tournament/live/mechanics-wednesday-late-night-showdown-1163882',\n",
       "       'https://www.chess.com/tournament/live/pnwcc-g25-master-1169491',\n",
       "       'https://www.chess.com/tournament/live/mechanics-friday-night-blitz-1163890',\n",
       "       'https://www.chess.com/tournament/live/-pnwcc-blitz---jackpot-iii-1166886',\n",
       "       'https://www.chess.com/tournament/live/stay-at-home-blitz-1175526',\n",
       "       'https://www.chess.com/tournament/live/alekhine-memorial-1176346',\n",
       "       'https://www.chess.com/tournament/live/geller-memorial-1177501',\n",
       "       'https://www.chess.com/tournament/live/mechanics-friday-evening-blitz-1173221',\n",
       "       'https://www.chess.com/tournament/live/mechanics-sunday-late-night-showdown-1173224',\n",
       "       'https://www.chess.com/tournament/live/mechanics-friday-night-blitz-1180084',\n",
       "       'https://www.chess.com/tournament/live/mechanics-tuesday-night-online-1183281',\n",
       "       'https://www.chess.com/tournament/live/pnwcc-expert-1194862',\n",
       "       'https://www.chess.com/tournament/live/pnwcc-blitz---jackpot-vi-1195888',\n",
       "       'https://www.chess.com/tournament/live/mechanics-tuesday-night-online-1191967',\n",
       "       'https://www.chess.com/tournament/live/thursday-pandas-1219505',\n",
       "       'https://www.chess.com/tournament/live/mechanics-tuesday-night-online-1220307',\n",
       "       'https://www.chess.com/tournament/live/mechanics-friday-night-blitz-1224480',\n",
       "       'https://www.chess.com/tournament/live/mechanics-tuesday-night-online-rapid-1227094',\n",
       "       'https://www.chess.com/tournament/live/mechanics-wednesday-afternoon-rapid-1227095',\n",
       "       'https://www.chess.com/tournament/live/mechanics-wednesday-late-night-blitz-1227100',\n",
       "       'https://www.chess.com/tournament/live/archer-approved-bullet-1240335',\n",
       "       'https://www.chess.com/tournament/live/untitled-tuesday-weekly-event-1235348',\n",
       "       'https://www.chess.com/tournament/live/mechanics-tuesday-night-online-1236084',\n",
       "       'https://www.chess.com/tournament/live/2020-mechanics-blitz-online-championship-1244248',\n",
       "       'https://www.chess.com/tournament/live/2020-mechanics-rapid-online-championship-1244250',\n",
       "       'https://www.chess.com/tournament/live/monday-macaws-1246221',\n",
       "       'https://www.chess.com/tournament/live/mechanics-friday-evening-online-blitz-1247117',\n",
       "       'https://www.chess.com/tournament/live/mechanics-tuesday-night-online-1249120',\n",
       "       'https://www.chess.com/tournament/live/mechanics-friday-night-online--1253280',\n",
       "       'https://www.chess.com/tournament/live/karen-approved-blitz-1270949',\n",
       "       'https://www.chess.com/tournament/live/mechanics-tuesday-night-online-1256872',\n",
       "       'https://www.chess.com/tournament/live/karen-approved-blitz-1272884',\n",
       "       'https://www.chess.com/tournament/live/karen-approved-blitz-1273207',\n",
       "       'https://www.chess.com/tournament/live/mechanics-friday-night-blitz-1260151',\n",
       "       'https://www.chess.com/tournament/live/sunday-stars-2200-1275522',\n",
       "       'https://www.chess.com/tournament/live/mechanics-sunday-night-blitz-1270635',\n",
       "       'https://www.chess.com/tournament/live/10-3-check-1276912',\n",
       "       'https://www.chess.com/tournament/live/mechanics-tuesday-night-online-1273176',\n",
       "       'https://www.chess.com/tournament/live/mechanics-wednesday-late-night-showdown-1273182',\n",
       "       'https://www.chess.com/tournament/live/mechanics-thursday-night-blitz-1273562',\n",
       "       'https://www.chess.com/tournament/live/mechanics-friday-night-online--1276337',\n",
       "       'https://www.chess.com/tournament/live/mechanics-uscf-online-rated-rapid---628-1289353',\n",
       "       'https://www.chess.com/tournament/live/mechanics-tuesday-night-online--1289345',\n",
       "       'https://www.chess.com/tournament/live/karen-approved-blitz-1295639',\n",
       "       'https://www.chess.com/tournament/live/mechanics-friday-night-online-1292823',\n",
       "       'https://www.chess.com/tournament/live/sac-fireworks-blitz-1291423',\n",
       "       'https://www.chess.com/tournament/live/mechanics-friday-night-online--1309317',\n",
       "       'https://www.chess.com/tournament/live/mechanics-uscf-online-rated-blitz-1310199'],\n",
       "      dtype=object)"
      ]
     },
     "execution_count": 30,
     "metadata": {},
     "output_type": "execute_result"
    }
   ],
   "source": [
    "chess_data['Tournament'].unique()"
   ]
  },
  {
   "cell_type": "code",
   "execution_count": null,
   "metadata": {},
   "outputs": [],
   "source": []
  },
  {
   "cell_type": "code",
   "execution_count": null,
   "metadata": {},
   "outputs": [],
   "source": []
  }
 ],
 "metadata": {
  "kernelspec": {
   "display_name": "Python 3",
   "language": "python",
   "name": "python3"
  },
  "language_info": {
   "codemirror_mode": {
    "name": "ipython",
    "version": 3
   },
   "file_extension": ".py",
   "mimetype": "text/x-python",
   "name": "python",
   "nbconvert_exporter": "python",
   "pygments_lexer": "ipython3",
   "version": "3.7.4"
  }
 },
 "nbformat": 4,
 "nbformat_minor": 4
}
